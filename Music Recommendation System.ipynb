{
 "cells": [
  {
   "cell_type": "code",
   "execution_count": 1,
   "id": "a5d651c2-e9e4-4a8b-966d-8422084109b0",
   "metadata": {},
   "outputs": [],
   "source": [
    "# Importing python library\n",
    "import pandas as pd\n",
    "import numpy as np"
   ]
  },
  {
   "cell_type": "code",
   "execution_count": 2,
   "id": "986193f6-ef43-424b-b55a-ab8ca6a40353",
   "metadata": {},
   "outputs": [],
   "source": [
    "# Importing Spotify dataset\n",
    "df = pd.read_csv(\"../datasets/spotify_millsongdata.csv\")"
   ]
  },
  {
   "cell_type": "code",
   "execution_count": 3,
   "id": "4f6530d1-b567-428f-89d5-b86917a84861",
   "metadata": {},
   "outputs": [
    {
     "data": {
      "text/html": [
       "<div>\n",
       "<style scoped>\n",
       "    .dataframe tbody tr th:only-of-type {\n",
       "        vertical-align: middle;\n",
       "    }\n",
       "\n",
       "    .dataframe tbody tr th {\n",
       "        vertical-align: top;\n",
       "    }\n",
       "\n",
       "    .dataframe thead th {\n",
       "        text-align: right;\n",
       "    }\n",
       "</style>\n",
       "<table border=\"1\" class=\"dataframe\">\n",
       "  <thead>\n",
       "    <tr style=\"text-align: right;\">\n",
       "      <th></th>\n",
       "      <th>artist</th>\n",
       "      <th>song</th>\n",
       "      <th>link</th>\n",
       "      <th>text</th>\n",
       "    </tr>\n",
       "  </thead>\n",
       "  <tbody>\n",
       "    <tr>\n",
       "      <th>0</th>\n",
       "      <td>ABBA</td>\n",
       "      <td>Ahe's My Kind Of Girl</td>\n",
       "      <td>/a/abba/ahes+my+kind+of+girl_20598417.html</td>\n",
       "      <td>Look at her face, it's a wonderful face  \\r\\nA...</td>\n",
       "    </tr>\n",
       "    <tr>\n",
       "      <th>1</th>\n",
       "      <td>ABBA</td>\n",
       "      <td>Andante, Andante</td>\n",
       "      <td>/a/abba/andante+andante_20002708.html</td>\n",
       "      <td>Take it easy with me, please  \\r\\nTouch me gen...</td>\n",
       "    </tr>\n",
       "    <tr>\n",
       "      <th>2</th>\n",
       "      <td>ABBA</td>\n",
       "      <td>As Good As New</td>\n",
       "      <td>/a/abba/as+good+as+new_20003033.html</td>\n",
       "      <td>I'll never know why I had to go  \\r\\nWhy I had...</td>\n",
       "    </tr>\n",
       "    <tr>\n",
       "      <th>3</th>\n",
       "      <td>ABBA</td>\n",
       "      <td>Bang</td>\n",
       "      <td>/a/abba/bang_20598415.html</td>\n",
       "      <td>Making somebody happy is a question of give an...</td>\n",
       "    </tr>\n",
       "    <tr>\n",
       "      <th>4</th>\n",
       "      <td>ABBA</td>\n",
       "      <td>Bang-A-Boomerang</td>\n",
       "      <td>/a/abba/bang+a+boomerang_20002668.html</td>\n",
       "      <td>Making somebody happy is a question of give an...</td>\n",
       "    </tr>\n",
       "  </tbody>\n",
       "</table>\n",
       "</div>"
      ],
      "text/plain": [
       "  artist                   song                                        link  \\\n",
       "0   ABBA  Ahe's My Kind Of Girl  /a/abba/ahes+my+kind+of+girl_20598417.html   \n",
       "1   ABBA       Andante, Andante       /a/abba/andante+andante_20002708.html   \n",
       "2   ABBA         As Good As New        /a/abba/as+good+as+new_20003033.html   \n",
       "3   ABBA                   Bang                  /a/abba/bang_20598415.html   \n",
       "4   ABBA       Bang-A-Boomerang      /a/abba/bang+a+boomerang_20002668.html   \n",
       "\n",
       "                                                text  \n",
       "0  Look at her face, it's a wonderful face  \\r\\nA...  \n",
       "1  Take it easy with me, please  \\r\\nTouch me gen...  \n",
       "2  I'll never know why I had to go  \\r\\nWhy I had...  \n",
       "3  Making somebody happy is a question of give an...  \n",
       "4  Making somebody happy is a question of give an...  "
      ]
     },
     "execution_count": 3,
     "metadata": {},
     "output_type": "execute_result"
    }
   ],
   "source": [
    "df.head()"
   ]
  },
  {
   "cell_type": "code",
   "execution_count": 4,
   "id": "97c2310e-5e2a-4963-8efb-752ba924a782",
   "metadata": {},
   "outputs": [],
   "source": [
    "df = df.sample(5000)"
   ]
  },
  {
   "cell_type": "code",
   "execution_count": 5,
   "id": "096f106e-6bd7-4fb7-8c8e-ce05704b6063",
   "metadata": {},
   "outputs": [
    {
     "data": {
      "text/plain": [
       "(5000, 4)"
      ]
     },
     "execution_count": 5,
     "metadata": {},
     "output_type": "execute_result"
    }
   ],
   "source": [
    "# Printing the Rows and Column\n",
    "df.shape"
   ]
  },
  {
   "cell_type": "code",
   "execution_count": 6,
   "id": "bc34a065-1474-4e95-9293-d62571e1f8fe",
   "metadata": {},
   "outputs": [
    {
     "data": {
      "text/plain": [
       "artist    0\n",
       "song      0\n",
       "link      0\n",
       "text      0\n",
       "dtype: int64"
      ]
     },
     "execution_count": 6,
     "metadata": {},
     "output_type": "execute_result"
    }
   ],
   "source": [
    "# Printing all the null Value in each column\n",
    "df.isnull().sum()"
   ]
  },
  {
   "cell_type": "code",
   "execution_count": 7,
   "id": "d35e7866-22a8-40ee-93d8-cab9c5943f89",
   "metadata": {},
   "outputs": [],
   "source": [
    "# Drop the link column from dataset\n",
    "df = df.drop('link', axis=1).reset_index(drop=True)"
   ]
  },
  {
   "cell_type": "code",
   "execution_count": 8,
   "id": "aadd44f6-88cd-4296-9cd9-bebc46190c9c",
   "metadata": {},
   "outputs": [
    {
     "data": {
      "text/html": [
       "<div>\n",
       "<style scoped>\n",
       "    .dataframe tbody tr th:only-of-type {\n",
       "        vertical-align: middle;\n",
       "    }\n",
       "\n",
       "    .dataframe tbody tr th {\n",
       "        vertical-align: top;\n",
       "    }\n",
       "\n",
       "    .dataframe thead th {\n",
       "        text-align: right;\n",
       "    }\n",
       "</style>\n",
       "<table border=\"1\" class=\"dataframe\">\n",
       "  <thead>\n",
       "    <tr style=\"text-align: right;\">\n",
       "      <th></th>\n",
       "      <th>artist</th>\n",
       "      <th>song</th>\n",
       "      <th>text</th>\n",
       "    </tr>\n",
       "  </thead>\n",
       "  <tbody>\n",
       "    <tr>\n",
       "      <th>0</th>\n",
       "      <td>Lucky Dube</td>\n",
       "      <td>Man In The City</td>\n",
       "      <td>Standing alone, in the middle of the city  \\r\\...</td>\n",
       "    </tr>\n",
       "    <tr>\n",
       "      <th>1</th>\n",
       "      <td>Lana Del Rey</td>\n",
       "      <td>Jump</td>\n",
       "      <td>Palm trees in black and white  \\r\\nLast thing ...</td>\n",
       "    </tr>\n",
       "    <tr>\n",
       "      <th>2</th>\n",
       "      <td>Justin Bieber</td>\n",
       "      <td>Only Thing I Ever Get For Christmas</td>\n",
       "      <td>If you're the only thing I ever get for Christ...</td>\n",
       "    </tr>\n",
       "    <tr>\n",
       "      <th>3</th>\n",
       "      <td>Tim McGraw</td>\n",
       "      <td>I Know How To Love You Well</td>\n",
       "      <td>It's been a long time  \\r\\nSince we walked dow...</td>\n",
       "    </tr>\n",
       "    <tr>\n",
       "      <th>4</th>\n",
       "      <td>Norah Jones</td>\n",
       "      <td>Flipside</td>\n",
       "      <td>[Verse 1]  \\r\\nI tried to get high, but you wa...</td>\n",
       "    </tr>\n",
       "  </tbody>\n",
       "</table>\n",
       "</div>"
      ],
      "text/plain": [
       "          artist                                 song  \\\n",
       "0     Lucky Dube                      Man In The City   \n",
       "1   Lana Del Rey                                 Jump   \n",
       "2  Justin Bieber  Only Thing I Ever Get For Christmas   \n",
       "3     Tim McGraw          I Know How To Love You Well   \n",
       "4    Norah Jones                             Flipside   \n",
       "\n",
       "                                                text  \n",
       "0  Standing alone, in the middle of the city  \\r\\...  \n",
       "1  Palm trees in black and white  \\r\\nLast thing ...  \n",
       "2  If you're the only thing I ever get for Christ...  \n",
       "3  It's been a long time  \\r\\nSince we walked dow...  \n",
       "4  [Verse 1]  \\r\\nI tried to get high, but you wa...  "
      ]
     },
     "execution_count": 8,
     "metadata": {},
     "output_type": "execute_result"
    }
   ],
   "source": [
    "df.head()"
   ]
  },
  {
   "cell_type": "code",
   "execution_count": 9,
   "id": "3c7c1ac3-4153-40ca-ae94-cf37605737d1",
   "metadata": {},
   "outputs": [
    {
     "data": {
      "text/plain": [
       "\"Standing alone, in the middle of the city  \\r\\nMan looks around him  \\r\\nHe hardly recognizes what he sees  \\r\\nCause he' s a man from the past  \\r\\nTwo thousand years ago  \\r\\nThis was his home  \\r\\nRivers used to run here  \\r\\nBirds used to fly around here  \\r\\nBut now it is a different jungle  \\r\\nA concrete jungle  \\r\\n  \\r\\n[Chorus:]  \\r\\nHe' s a lonely man  \\r\\nIn the middle of the city  \\r\\nMissing home so badly  \\r\\n  \\r\\nMan' s own creation  \\r\\nHas become his worst enemy  \\r\\nWeapons of destruction  \\r\\nHave brought about  \\r\\nHuman extinction...wo...ho  \\r\\nTwo thousand years ago  \\r\\nThis was his home  \\r\\nBut now it is  \\r\\nA different jungle  \\r\\nA concrete jungle  \\r\\n  \\r\\n[Chorus:]  \\r\\nHe' s a lonely man  \\r\\nIn the middle of the city  \\r\\nMissing home so badly\\r\\n\\r\\n\""
      ]
     },
     "execution_count": 9,
     "metadata": {},
     "output_type": "execute_result"
    }
   ],
   "source": [
    "# Printing Lyrics of first song\n",
    "df['text'][0]"
   ]
  },
  {
   "cell_type": "markdown",
   "id": "6f485827-c594-417b-98e1-bd345407699a",
   "metadata": {},
   "source": [
    "Data Preprocessing / Data Cleaning "
   ]
  },
  {
   "cell_type": "code",
   "execution_count": 10,
   "id": "e4efed1b-2683-4106-96f1-3d55d2bac9bd",
   "metadata": {},
   "outputs": [],
   "source": [
    "# df['text'].str.lower().replace(r'^a-ZA-Z0-9', '')\n",
    "# df['text'] = df['text'].str.lower().replace(r'[^\\w\\s]', ' ').replace(r'\\n', ' ', regex = True)\n",
    "# df['text'] = df['text'].str.lower().replace(r'[^\\w\\s\\n]|\\\\n', ' ', regex=True)"
   ]
  },
  {
   "cell_type": "code",
   "execution_count": 11,
   "id": "33073cde-048a-4d2f-885c-bd2b971e6a34",
   "metadata": {},
   "outputs": [],
   "source": [
    "df['text'] = (\n",
    "    df['text']\n",
    "    .str.lower()\n",
    "    .replace(r'[^\\w\\s]', ' ', regex=True)  # Remove non-alphanumeric characters except spaces\n",
    "    .replace(r'\\\\[rnt]', ' ', regex=True) # Remove escape sequences like \\r, \\n, \\t\n",
    "    .replace(r'\\s+', ' ', regex=True)     # Replace multiple spaces with a single space\n",
    "    .str.strip()                          # Remove leading and trailing spaces\n",
    ")"
   ]
  },
  {
   "cell_type": "code",
   "execution_count": 12,
   "id": "8c1d42e0-690f-4a59-8ace-f0075c9bf399",
   "metadata": {},
   "outputs": [
    {
     "data": {
      "text/plain": [
       "0       standing alone in the middle of the city man l...\n",
       "1       palm trees in black and white last thing i saw...\n",
       "2       if you re the only thing i ever get for christ...\n",
       "3       it s been a long time since we walked down tha...\n",
       "4       verse 1 i tried to get high but you wanted me ...\n",
       "                              ...                        \n",
       "4995    your the devil in me that i brought in from th...\n",
       "4996    the wind was howling dogs were sleeping i had ...\n",
       "4997    ease up a little bit cause i want to want you ...\n",
       "4998    here we come walkin down the street we get the...\n",
       "4999    i was seventeen ou were working for matthew an...\n",
       "Name: text, Length: 5000, dtype: object"
      ]
     },
     "execution_count": 12,
     "metadata": {},
     "output_type": "execute_result"
    }
   ],
   "source": [
    "df['text']"
   ]
  },
  {
   "cell_type": "code",
   "execution_count": 13,
   "id": "51c4db2e-a00e-4fc3-ac47-52d80473f2b5",
   "metadata": {},
   "outputs": [
    {
     "name": "stdout",
     "output_type": "stream",
     "text": [
      "Requirement already satisfied: nltk in c:\\users\\saura\\appdata\\local\\programs\\python\\python312\\lib\\site-packages (3.9.1)\n",
      "Requirement already satisfied: click in c:\\users\\saura\\appdata\\local\\programs\\python\\python312\\lib\\site-packages (from nltk) (8.1.7)\n",
      "Requirement already satisfied: joblib in c:\\users\\saura\\appdata\\local\\programs\\python\\python312\\lib\\site-packages (from nltk) (1.4.2)\n",
      "Requirement already satisfied: regex>=2021.8.3 in c:\\users\\saura\\appdata\\local\\programs\\python\\python312\\lib\\site-packages (from nltk) (2024.11.6)\n",
      "Requirement already satisfied: tqdm in c:\\users\\saura\\appdata\\local\\programs\\python\\python312\\lib\\site-packages (from nltk) (4.67.0)\n",
      "Requirement already satisfied: colorama in c:\\users\\saura\\appdata\\local\\programs\\python\\python312\\lib\\site-packages (from click->nltk) (0.4.6)\n"
     ]
    }
   ],
   "source": [
    "!pip install nltk"
   ]
  },
  {
   "cell_type": "code",
   "execution_count": 14,
   "id": "764aa6aa-74fe-4b8d-b00e-91683a86a9f9",
   "metadata": {},
   "outputs": [
    {
     "data": {
      "text/plain": [
       "'you are beauti , beauti'"
      ]
     },
     "execution_count": 14,
     "metadata": {},
     "output_type": "execute_result"
    }
   ],
   "source": [
    "import nltk\n",
    "from nltk.stem.porter import PorterStemmer\n",
    "stemmer = PorterStemmer()\n",
    "\n",
    "def token(text):\n",
    "    token = nltk.word_tokenize(text)\n",
    "    a = [stemmer.stem(w) for w in token]\n",
    "    return \" \".join(a)\n",
    "\n",
    "token(\"you are beautiful, beauty\")"
   ]
  },
  {
   "cell_type": "code",
   "execution_count": 15,
   "id": "42bda5f4-b349-47cb-bd39-3227f56d1bb1",
   "metadata": {},
   "outputs": [
    {
     "data": {
      "text/plain": [
       "0       stand alon in the middl of the citi man look a...\n",
       "1       palm tree in black and white last thing i saw ...\n",
       "2       if you re the onli thing i ever get for christ...\n",
       "3       it s been a long time sinc we walk down that a...\n",
       "4       vers 1 i tri to get high but you want me low g...\n",
       "                              ...                        \n",
       "4995    your the devil in me that i brought in from th...\n",
       "4996    the wind wa howl dog were sleep i had to bite ...\n",
       "4997    eas up a littl bit caus i want to want you if ...\n",
       "4998    here we come walkin down the street we get the...\n",
       "4999    i wa seventeen ou were work for matthew and so...\n",
       "Name: text, Length: 5000, dtype: object"
      ]
     },
     "execution_count": 15,
     "metadata": {},
     "output_type": "execute_result"
    }
   ],
   "source": [
    "df['text'].apply(lambda x : token(x))"
   ]
  },
  {
   "cell_type": "code",
   "execution_count": 16,
   "id": "ddd63951-9a83-4f61-a80a-8d15bcf5f4e8",
   "metadata": {},
   "outputs": [],
   "source": [
    "from sklearn.feature_extraction.text import TfidfVectorizer\n",
    "from sklearn.metrics.pairwise import cosine_similarity"
   ]
  },
  {
   "cell_type": "code",
   "execution_count": 17,
   "id": "9484d8d1-9928-4b6a-b568-91191f54f2da",
   "metadata": {},
   "outputs": [],
   "source": [
    "tfid = TfidfVectorizer(analyzer='word', stop_words = 'english')"
   ]
  },
  {
   "cell_type": "code",
   "execution_count": 18,
   "id": "5d944bc3-2965-49e8-a0d0-cdaa8fc1d0b0",
   "metadata": {},
   "outputs": [],
   "source": [
    "matrix = tfid.fit_transform(df['text'])"
   ]
  },
  {
   "cell_type": "code",
   "execution_count": 19,
   "id": "f28537fa-770e-42e0-9b8a-08dd43903b38",
   "metadata": {},
   "outputs": [
    {
     "data": {
      "text/plain": [
       "(5000, 23038)"
      ]
     },
     "execution_count": 19,
     "metadata": {},
     "output_type": "execute_result"
    }
   ],
   "source": [
    "matrix.shape"
   ]
  },
  {
   "cell_type": "code",
   "execution_count": 20,
   "id": "2c665c69-7487-474e-a504-3eb5992b4a8d",
   "metadata": {},
   "outputs": [],
   "source": [
    "similarity = cosine_similarity(matrix)"
   ]
  },
  {
   "cell_type": "code",
   "execution_count": 21,
   "id": "c5a9b2fe-7468-40f2-ae7e-2f9162b20314",
   "metadata": {},
   "outputs": [
    {
     "data": {
      "text/plain": [
       "array([1.00000000e+00, 8.01874156e-03, 9.26375763e-04, ...,\n",
       "       6.63447805e-03, 6.85122634e-03, 8.40570381e-03])"
      ]
     },
     "execution_count": 21,
     "metadata": {},
     "output_type": "execute_result"
    }
   ],
   "source": [
    "similarity[0]"
   ]
  },
  {
   "cell_type": "code",
   "execution_count": null,
   "id": "7981b325-c30b-49ad-aef9-6c01f89135b6",
   "metadata": {},
   "outputs": [],
   "source": []
  },
  {
   "cell_type": "code",
   "execution_count": 22,
   "id": "e2d72779-ef74-4082-ac77-a983f0310f44",
   "metadata": {},
   "outputs": [
    {
     "data": {
      "text/html": [
       "<div>\n",
       "<style scoped>\n",
       "    .dataframe tbody tr th:only-of-type {\n",
       "        vertical-align: middle;\n",
       "    }\n",
       "\n",
       "    .dataframe tbody tr th {\n",
       "        vertical-align: top;\n",
       "    }\n",
       "\n",
       "    .dataframe thead th {\n",
       "        text-align: right;\n",
       "    }\n",
       "</style>\n",
       "<table border=\"1\" class=\"dataframe\">\n",
       "  <thead>\n",
       "    <tr style=\"text-align: right;\">\n",
       "      <th></th>\n",
       "      <th>artist</th>\n",
       "      <th>song</th>\n",
       "      <th>text</th>\n",
       "    </tr>\n",
       "  </thead>\n",
       "  <tbody>\n",
       "    <tr>\n",
       "      <th>4995</th>\n",
       "      <td>Oasis</td>\n",
       "      <td>Setting Sun</td>\n",
       "      <td>your the devil in me that i brought in from th...</td>\n",
       "    </tr>\n",
       "    <tr>\n",
       "      <th>4996</th>\n",
       "      <td>Wishbone Ash</td>\n",
       "      <td>Kicks On The Street</td>\n",
       "      <td>the wind was howling dogs were sleeping i had ...</td>\n",
       "    </tr>\n",
       "    <tr>\n",
       "      <th>4997</th>\n",
       "      <td>Unwritten Law</td>\n",
       "      <td>The Celebration Song</td>\n",
       "      <td>ease up a little bit cause i want to want you ...</td>\n",
       "    </tr>\n",
       "    <tr>\n",
       "      <th>4998</th>\n",
       "      <td>The Monkees</td>\n",
       "      <td>Theme From The Monkees</td>\n",
       "      <td>here we come walkin down the street we get the...</td>\n",
       "    </tr>\n",
       "    <tr>\n",
       "      <th>4999</th>\n",
       "      <td>Cat Stevens</td>\n",
       "      <td>To Be A Star</td>\n",
       "      <td>i was seventeen ou were working for matthew an...</td>\n",
       "    </tr>\n",
       "  </tbody>\n",
       "</table>\n",
       "</div>"
      ],
      "text/plain": [
       "             artist                    song  \\\n",
       "4995          Oasis             Setting Sun   \n",
       "4996   Wishbone Ash     Kicks On The Street   \n",
       "4997  Unwritten Law    The Celebration Song   \n",
       "4998    The Monkees  Theme From The Monkees   \n",
       "4999    Cat Stevens            To Be A Star   \n",
       "\n",
       "                                                   text  \n",
       "4995  your the devil in me that i brought in from th...  \n",
       "4996  the wind was howling dogs were sleeping i had ...  \n",
       "4997  ease up a little bit cause i want to want you ...  \n",
       "4998  here we come walkin down the street we get the...  \n",
       "4999  i was seventeen ou were working for matthew an...  "
      ]
     },
     "execution_count": 22,
     "metadata": {},
     "output_type": "execute_result"
    }
   ],
   "source": [
    "df.tail()"
   ]
  },
  {
   "cell_type": "markdown",
   "id": "d91071c7-6e57-49e1-a8a4-cc1aeb2bcd5f",
   "metadata": {},
   "source": [
    "Recommendar Function"
   ]
  },
  {
   "cell_type": "code",
   "execution_count": 23,
   "id": "c6c2b159-a830-45dd-8fc7-b80432ce1615",
   "metadata": {},
   "outputs": [],
   "source": [
    "def recommendation(song_name):\n",
    "    idx = df[df['song'] == song_name].index[0]\n",
    "    distances = sorted(list(enumerate(similarity[idx])),reverse=True,key=lambda x:x[1])\n",
    "    \n",
    "    songs = []\n",
    "    for m_id in distances[1:11]:\n",
    "        songs.append(df.iloc[m_id[0]].song)\n",
    "        \n",
    "    return songs"
   ]
  },
  {
   "cell_type": "code",
   "execution_count": 25,
   "id": "f0759b7f-b413-4d69-b85b-901994ece538",
   "metadata": {},
   "outputs": [
    {
     "data": {
      "text/plain": [
       "['Keep It Coming',\n",
       " 'Unglued',\n",
       " 'Believe (Club 69 Phunk Dub)',\n",
       " 'Quiet Desperation',\n",
       " \"I Can't Go On That Way\",\n",
       " \"Let's Go Up\",\n",
       " \"Don't Wait For Me\",\n",
       " 'Heaven',\n",
       " \"Long Song Comin'\",\n",
       " \"One Time Comin'\"]"
      ]
     },
     "execution_count": 25,
     "metadata": {},
     "output_type": "execute_result"
    }
   ],
   "source": [
    "recommendation(\"Setting Sun\")"
   ]
  },
  {
   "cell_type": "code",
   "execution_count": 26,
   "id": "a397f865-b2fb-4192-93c6-b2a58b56771f",
   "metadata": {},
   "outputs": [],
   "source": [
    "import pickle\n",
    "pickle.dump(similarity,open('similarity.pkl','wb'))\n",
    "pickle.dump(df,open('df.pkl','wb'))"
   ]
  },
  {
   "cell_type": "code",
   "execution_count": null,
   "id": "99482be2-3e5c-4a4b-9fd2-e5197d377bf4",
   "metadata": {},
   "outputs": [],
   "source": []
  }
 ],
 "metadata": {
  "kernelspec": {
   "display_name": "Python 3 (ipykernel)",
   "language": "python",
   "name": "python3"
  },
  "language_info": {
   "codemirror_mode": {
    "name": "ipython",
    "version": 3
   },
   "file_extension": ".py",
   "mimetype": "text/x-python",
   "name": "python",
   "nbconvert_exporter": "python",
   "pygments_lexer": "ipython3",
   "version": "3.12.3"
  }
 },
 "nbformat": 4,
 "nbformat_minor": 5
}
